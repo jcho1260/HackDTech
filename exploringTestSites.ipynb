{
 "cells": [
  {
   "cell_type": "code",
   "execution_count": 3,
   "metadata": {},
   "outputs": [],
   "source": [
    "import pandas as pd\n",
    "import numpy as np\n",
    "import matplotlib.pyplot as plt"
   ]
  },
  {
   "cell_type": "code",
   "execution_count": 36,
   "metadata": {},
   "outputs": [
    {
     "name": "stdout",
     "output_type": "stream",
     "text": [
      "<class 'pandas.core.frame.DataFrame'>\n",
      "RangeIndex: 12486 entries, 0 to 12485\n",
      "Data columns (total 43 columns):\n",
      "X                          12486 non-null float64\n",
      "Y                          12486 non-null float64\n",
      "OBJECTID                   12486 non-null int64\n",
      "facilityid                 1685 non-null object\n",
      "name                       12480 non-null object\n",
      "fulladdr                   12480 non-null object\n",
      "municipality               10834 non-null object\n",
      "agency                     10851 non-null object\n",
      "agencytype                 10780 non-null object\n",
      "phone                      11303 non-null object\n",
      "agencyurl                  12376 non-null object\n",
      "operhours                  11038 non-null object\n",
      "comments                   6959 non-null object\n",
      "Instructions               11336 non-null object\n",
      "numvehicles                202 non-null float64\n",
      "testcapacity               651 non-null float64\n",
      "status                     12486 non-null object\n",
      "CreationDate               12314 non-null object\n",
      "EditDate                   12486 non-null object\n",
      "drive_through              10757 non-null object\n",
      "appt_only                  11768 non-null object\n",
      "referral_required          10446 non-null object\n",
      "services_offered_onsite    12454 non-null object\n",
      "call_first                 9394 non-null object\n",
      "virtual_screening          9477 non-null object\n",
      "health_dept_url            11623 non-null object\n",
      "State                      12484 non-null object\n",
      "GlobalID                   12486 non-null object\n",
      "data_source                9868 non-null object\n",
      "county                     12267 non-null object\n",
      "red_flag                   9348 non-null object\n",
      "vol_note                   2147 non-null object\n",
      "public_form                12485 non-null object\n",
      "start_date                 3085 non-null object\n",
      "end_date                   1535 non-null object\n",
      "type_of_test               12133 non-null object\n",
      "test_processing            11927 non-null object\n",
      "fine_print                 8698 non-null object\n",
      "vehicle_required           3096 non-null object\n",
      "facility_type              11967 non-null object\n",
      "Outside_FID                927 non-null float64\n",
      "filter                     848 non-null object\n",
      "minimum_age                1946 non-null float64\n",
      "dtypes: float64(6), int64(1), object(36)\n",
      "memory usage: 4.1+ MB\n"
     ]
    }
   ],
   "source": [
    "testSites = pd.read_csv('/Users/jincho/Desktop/pikapixels/testSitesNational.csv')\n",
    "testSites.info()"
   ]
  },
  {
   "cell_type": "code",
   "execution_count": 37,
   "metadata": {},
   "outputs": [],
   "source": [
    "testSites_condensed = testSites.drop(columns = ['test_processing','data_source','public_form','comments', 'X', 'Y', 'minimum_age','GlobalID','OBJECTID', 'facilityid', 'comments', 'numvehicles', 'testcapacity', 'CreationDate', 'EditDate', 'start_date', 'end_date', 'fine_print', 'vehicle_required', 'Outside_FID', 'filter', 'red_flag', 'vol_note'])"
   ]
  },
  {
   "cell_type": "code",
   "execution_count": 43,
   "metadata": {},
   "outputs": [
    {
     "name": "stdout",
     "output_type": "stream",
     "text": [
      "<class 'pandas.core.frame.DataFrame'>\n",
      "RangeIndex: 12486 entries, 0 to 12485\n",
      "Data columns (total 21 columns):\n",
      "name                       12480 non-null object\n",
      "fulladdr                   12480 non-null object\n",
      "municipality               10834 non-null object\n",
      "agency                     10851 non-null object\n",
      "agencytype                 10780 non-null object\n",
      "phone                      11303 non-null object\n",
      "agencyurl                  12376 non-null object\n",
      "operhours                  11038 non-null object\n",
      "Instructions               11336 non-null object\n",
      "status                     12486 non-null object\n",
      "drive_through              10757 non-null object\n",
      "appt_only                  11768 non-null object\n",
      "referral_required          10446 non-null object\n",
      "services_offered_onsite    12454 non-null object\n",
      "call_first                 9394 non-null object\n",
      "virtual_screening          9477 non-null object\n",
      "health_dept_url            11623 non-null object\n",
      "State                      12484 non-null object\n",
      "county                     12267 non-null object\n",
      "type_of_test               12133 non-null object\n",
      "facility_type              11967 non-null object\n",
      "dtypes: object(21)\n",
      "memory usage: 2.0+ MB\n"
     ]
    }
   ],
   "source": [
    "testSites_condensed.info()"
   ]
  },
  {
   "cell_type": "code",
   "execution_count": 42,
   "metadata": {},
   "outputs": [],
   "source": [
    "testSites_condensed.to_csv('/Users/jincho/Desktop/pikapixels/testSitesNational_condensed.csv')"
   ]
  },
  {
   "cell_type": "code",
   "execution_count": null,
   "metadata": {},
   "outputs": [],
   "source": []
  }
 ],
 "metadata": {
  "kernelspec": {
   "display_name": "Python 3",
   "language": "python",
   "name": "python3"
  },
  "language_info": {
   "codemirror_mode": {
    "name": "ipython",
    "version": 3
   },
   "file_extension": ".py",
   "mimetype": "text/x-python",
   "name": "python",
   "nbconvert_exporter": "python",
   "pygments_lexer": "ipython3",
   "version": "3.6.5"
  }
 },
 "nbformat": 4,
 "nbformat_minor": 2
}
